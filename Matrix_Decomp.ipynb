{
  "nbformat": 4,
  "nbformat_minor": 0,
  "metadata": {
    "colab": {
      "provenance": []
    },
    "kernelspec": {
      "name": "python3",
      "display_name": "Python 3"
    },
    "language_info": {
      "name": "python"
    }
  },
  "cells": [
    {
      "cell_type": "code",
      "execution_count": 14,
      "metadata": {
        "colab": {
          "base_uri": "https://localhost:8080/"
        },
        "id": "d8Q0Vie3uo5M",
        "outputId": "9080264a-24d2-402c-fc9d-ece865722ba5"
      },
      "outputs": [
        {
          "output_type": "stream",
          "name": "stdout",
          "text": [
            "Matrix LU:\n",
            "[[-4.    6.    3.  ]\n",
            " [ 1.   -8.    5.  ]\n",
            " [-0.5  -0.25  0.75]]\n",
            "Permutation sigma:\n",
            "[1 2 0]\n"
          ]
        }
      ],
      "source": [
        "import numpy as np\n",
        "\n",
        "def LU_decomp(A):\n",
        "  N = A.shape[0]\n",
        "  A = A.astype(float)\n",
        "  sigma = np.arange(N)\n",
        "\n",
        "  for k in range(N - 1):\n",
        "    p = k\n",
        "    arg = np.abs(A[k, k])\n",
        "\n",
        "    for i in range(k, N):\n",
        "      if np.abs(A[i, k]) > arg:\n",
        "        arg = np.abs(A[i, k])\n",
        "        p = i\n",
        "\n",
        "    if arg < 1e-12:\n",
        "      raise ValueError(...)\n",
        "\n",
        "    if p != k:\n",
        "      A[[k, p]] = A[[p, k]]\n",
        "      sigma[k], sigma[p] = sigma[p], sigma[k]\n",
        "\n",
        "    for i in range(k + 1, N):\n",
        "      A[i, k] = A[i, k] / A[k, k]\n",
        "\n",
        "    for i in range(k + 1, N):\n",
        "      for j in range(k + 1, N):\n",
        "        A[i, j] = A[i, j] - A[i, k] * A[k, j]\n",
        "\n",
        "  return A, sigma\n",
        "\n",
        "\n",
        "A = np.array([[2, -1, -2],\n",
        "              [-4, 6, 3],\n",
        "              [-4, -2, 8]], dtype=float)\n",
        "\n",
        "LU, sigma = LU_decomp(A)\n",
        "print(\"Matrix LU:\")\n",
        "print(LU)\n",
        "print(\"Permutation sigma:\")\n",
        "print(sigma)"
      ]
    },
    {
      "cell_type": "code",
      "source": [
        "def QR_householder(A):\n",
        "  A = A.astype(float)\n",
        "  m, n = A.shape\n",
        "  R = A.copy()\n",
        "  V = []\n",
        "\n",
        "  for k in range(n):\n",
        "    avec = np.zeros_like(R[k:, [k]])\n",
        "    if R[k, k] >= 0:\n",
        "      avec[0] = np.linalg.norm(R[k:, k], 2)\n",
        "    else:\n",
        "      avec[0] = -np.linalg.norm(R[k:, k], 2)\n",
        "\n",
        "    u = R[k:, [k]] + avec\n",
        "    if np.linalg.norm(u) < 1e-12:\n",
        "      v = u\n",
        "    else:\n",
        "      v = u / np.linalg.norm(u)\n",
        "\n",
        "    V.append(v)\n",
        "\n",
        "    Qn = np.identity(m - k) - (2 * np.dot(v, v.T))\n",
        "    Qn = np.block([\n",
        "        [np.eye(k), np.zeros((k, m - k))],\n",
        "        [np.zeros((m - k, k)), Qn]])\n",
        "    R = np.dot(Qn, R)\n",
        "\n",
        "  return V, R\n",
        "\n",
        "def houselholder_prod(V, x):\n",
        "  x = x.astype(float).reshape(-1, 1)\n",
        "  m = x.shape[0]\n",
        "  for k, v in enumerate(V):\n",
        "    u = np.vstack([np.zeros((k, 1)), v])\n",
        "    gamma = 2 * np.dot(u.T, x)\n",
        "    x = x - gamma * u\n",
        "  return x\n",
        "\n",
        "\n",
        "A = np.array([\n",
        "    [2, -1],\n",
        "    [1, 2],\n",
        "    [1, 1]], dtype=float)\n",
        "\n",
        "b = np.array([1, 2, 3])\n",
        "\n",
        "print(\"Matrix A: \")\n",
        "print(A)\n",
        "print(\"Vector b: \")\n",
        "print(b)\n",
        "\n",
        "print(\"Solve for ||Ax - b|| -> min!:\")\n",
        "\n",
        "V, R = QR_householder(A)\n",
        "\n",
        "y = houselholder_prod(V, b.T)\n",
        "y = y[:R.shape[1]]\n",
        "x = np.linalg.solve(R[:R.shape[1], :], y)\n",
        "\n",
        "print(\"Best x:\")\n",
        "print(x)"
      ],
      "metadata": {
        "colab": {
          "base_uri": "https://localhost:8080/"
        },
        "id": "9FCxI4RRNZeS",
        "outputId": "4d0c3238-3435-41f1-fcae-58100e059a9f"
      },
      "execution_count": 16,
      "outputs": [
        {
          "output_type": "stream",
          "name": "stdout",
          "text": [
            "Matrix A: \n",
            "[[ 2. -1.]\n",
            " [ 1.  2.]\n",
            " [ 1.  1.]]\n",
            "Vector b: \n",
            "[1 2 3]\n",
            "Solve for ||Ax - b|| -> min!:\n",
            "Best x:\n",
            "[[-0.14830778]\n",
            " [ 1.42747107]]\n",
            "Rozwiązanie x: [1.02857143 0.82857143]\n",
            "Reszty (norma residuum): [1.82857143]\n",
            "Rząd macierzy A: 2\n",
            "Wartości osobliwe A: [2.64575131 2.23606798]\n"
          ]
        }
      ]
    }
  ]
}