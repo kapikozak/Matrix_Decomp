{
  "nbformat": 4,
  "nbformat_minor": 0,
  "metadata": {
    "colab": {
      "provenance": []
    },
    "kernelspec": {
      "name": "python3",
      "display_name": "Python 3"
    },
    "language_info": {
      "name": "python"
    }
  },
  "cells": [
    {
      "cell_type": "code",
      "execution_count": 10,
      "metadata": {
        "colab": {
          "base_uri": "https://localhost:8080/"
        },
        "id": "d8Q0Vie3uo5M",
        "outputId": "4e671f6f-2080-454c-af16-7d489d57200f"
      },
      "outputs": [
        {
          "output_type": "stream",
          "name": "stdout",
          "text": [
            "Matrix LU:\n",
            "[[-4.    6.    3.  ]\n",
            " [ 1.   -8.    5.  ]\n",
            " [-0.5  -0.25  0.75]]\n",
            "Permutation sigma:\n",
            "[1 2 0]\n"
          ]
        }
      ],
      "source": [
        "import numpy as np\n",
        "\n",
        "def LU_decomp(A):\n",
        "  N = A.shape[0]\n",
        "  A = A.astype(float)\n",
        "  sigma = np.arange(N)\n",
        "\n",
        "  for k in range(N - 1):\n",
        "    p = k\n",
        "    arg = np.abs(A[k, k])\n",
        "\n",
        "    for i in range(k, N):\n",
        "      if np.abs(A[i, k]) > arg:\n",
        "        arg = np.abs(A[i, k])\n",
        "        p = i\n",
        "\n",
        "    if arg < 1e-12:\n",
        "      raise ValueError(...)\n",
        "\n",
        "    if p != k:\n",
        "      A[[k, p]] = A[[p, k]]\n",
        "      sigma[k], sigma[p] = sigma[p], sigma[k]\n",
        "\n",
        "    for i in range(k + 1, N):\n",
        "      A[i, k] = A[i, k] / A[k, k]\n",
        "\n",
        "    for i in range(k + 1, N):\n",
        "      for j in range(k + 1, N):\n",
        "        A[i, j] = A[i, j] - A[i, k] * A[k, j]\n",
        "\n",
        "  return A, sigma\n",
        "\n",
        "\n",
        "A = np.array([[2, -1, -2],\n",
        "              [-4, 6, 3],\n",
        "              [-4, -2, 8]], dtype=float)\n",
        "\n",
        "LU, sigma = LU_decomp(A)\n",
        "print(\"Matrix LU:\")\n",
        "print(LU)\n",
        "print(\"Permutation sigma:\")\n",
        "print(sigma)"
      ]
    },
    {
      "cell_type": "code",
      "source": [
        "def QR_householder(A):\n",
        "  A = A.astype(float)\n",
        "  m, n = A.shape\n",
        "  R = A.copy()\n",
        "  V = []\n",
        "\n",
        "  for k in range(n):\n",
        "    x = R[k:, k].reshape(-1, 1)\n",
        "    avec = np.zeros_like(x)\n",
        "    if x[0] >= 0:\n",
        "      avec[0] = np.linalg.norm(x)\n",
        "    else:\n",
        "      avec[0] = -np.linalg.norm(x)\n",
        "    u = x + avec\n",
        "\n",
        "    if np.linalg.norm(u) < 1e-16:\n",
        "      v = u\n",
        "    else:\n",
        "      v = u / np.linalg.norm(u)\n",
        "\n",
        "    V.append(v)\n",
        "\n",
        "    R[k:, k:] = R[k:, k:] - 2 * v @ (v.T @ R[k:, k:])\n",
        "\n",
        "  return V, R\n",
        "\n",
        "\n",
        "def householder_prod(V, x):\n",
        "  x = x.astype(float).reshape(-1, 1)\n",
        "  for k, v in enumerate(V):\n",
        "    u = np.vstack([np.zeros((k, 1)), v])\n",
        "    x = x - 2 * u @ (u.T @ x)\n",
        "  return x\n",
        "\n",
        "\n",
        "\n",
        "A = np.array([\n",
        "    [2, -1],\n",
        "    [1, 2],\n",
        "    [1, 1]], dtype=float)\n",
        "\n",
        "b = np.array([1, 2, 3])\n",
        "\n",
        "print(\"Matrix A: \")\n",
        "print(A)\n",
        "print(\"Vector b: \")\n",
        "print(b)\n",
        "\n",
        "print(\"Solve for ||Ax - b|| -> min!:\")\n",
        "\n",
        "V, R = QR_householder(A)\n",
        "\n",
        "y = houselholder_prod(V, b.T)\n",
        "\n",
        "y = y[:R.shape[1]]\n",
        "x = np.linalg.solve(R[:R.shape[1], :], y)\n",
        "\n",
        "print(\"Best x:\")\n",
        "print(x)"
      ],
      "metadata": {
        "colab": {
          "base_uri": "https://localhost:8080/"
        },
        "id": "9FCxI4RRNZeS",
        "outputId": "dc412965-c22a-45cf-968f-ead8dba89c8b"
      },
      "execution_count": 11,
      "outputs": [
        {
          "output_type": "stream",
          "name": "stdout",
          "text": [
            "Matrix A: \n",
            "[[ 2. -1.]\n",
            " [ 1.  2.]\n",
            " [ 1.  1.]]\n",
            "Vector b: \n",
            "[1 2 3]\n",
            "Solve for ||Ax - b|| -> min!:\n",
            "Best x:\n",
            "[[1.02857143]\n",
            " [0.82857143]]\n"
          ]
        }
      ]
    }
  ]
}